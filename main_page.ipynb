{
 "cells": [
  {
   "cell_type": "code",
   "execution_count": 1,
   "id": "9995d06c-90e6-47ed-b191-ba2dc4d8ccf4",
   "metadata": {},
   "outputs": [],
   "source": [
    "import pandas as pd\n",
    "import plotly.express as px\n",
    "import streamlit as st"
   ]
  },
  {
   "cell_type": "code",
   "execution_count": null,
   "id": "fc41c2f0-bf04-4610-be7a-ecd60afdb83f",
   "metadata": {},
   "outputs": [],
   "source": []
  },
  {
   "cell_type": "code",
   "execution_count": null,
   "id": "283202d1-3b7c-49c7-844b-34a18f1fe06a",
   "metadata": {},
   "outputs": [],
   "source": []
  },
  {
   "cell_type": "code",
   "execution_count": 2,
   "id": "82ef0ab6-a168-447b-906f-a21ef8c2009e",
   "metadata": {},
   "outputs": [],
   "source": [
    "# Carregando os dados do arquivo Excel\n",
    "df_energia = pd.read_excel('dados_energia.xlsx', sheet_name='energia')\n",
    "df_clima = pd.read_excel('dados_clima.xlsx', sheet_name='clima')"
   ]
  },
  {
   "cell_type": "code",
   "execution_count": 4,
   "id": "a3f2a7a1-d074-4046-9dea-817b3f010ebc",
   "metadata": {},
   "outputs": [],
   "source": [
    "# Criando uma tabela dinâmica para os dados de energia\n",
    "df_pivot_energia = pd.pivot_table(df_energia, index=['Mês'], values=['Geração', 'Compensação'], aggfunc='sum')"
   ]
  },
  {
   "cell_type": "code",
   "execution_count": 7,
   "id": "0fb0f480-b91e-4114-905b-7a3476c249af",
   "metadata": {},
   "outputs": [],
   "source": [
    "# Criando gráficos com plotly\n",
    "fig_energia = px.bar(df_pivot_energia, x=df_pivot_energia.index, y=['Geração', 'Compensação'], title='Energia Fotovoltaica')\n",
    "\n",
    "fig_temperatura = px.line(df_clima, x='Mês', y='Temperatura', title='Temperatura')\n",
    "fig_chuva = px.bar(df_clima, x='Mês', y='Chuva', title='Chuva')\n",
    "fig_irradiancia = px.line(df_clima, x='Mês', y='Irradiancia', title='Irradiancia')\n",
    "fig_humidade = px.line(df_clima, x='Mês', y='Humidade', title='Humidade')"
   ]
  },
  {
   "cell_type": "code",
   "execution_count": 11,
   "id": "d63a395c-aa30-45f6-95d8-2c84462ad179",
   "metadata": {},
   "outputs": [],
   "source": [
    "# Criando a interface do usuário com streamlit\n",
    "#st.title('Análise de Energia Fotovoltaica e Dados Climáticos')"
   ]
  },
  {
   "cell_type": "code",
   "execution_count": null,
   "id": "8b9ecf33-d2e2-4ba0-abf3-d754a2f9187e",
   "metadata": {},
   "outputs": [],
   "source": []
  },
  {
   "cell_type": "code",
   "execution_count": 9,
   "id": "62ed4f1b-6452-44d1-a42c-58120495c340",
   "metadata": {},
   "outputs": [],
   "source": [
    "# Seleção de gráficos\n",
    "option = st.sidebar.selectbox('Selecione o gráfico:', ['Energia Fotovoltaica', 'Temperatura', 'Chuva', 'Irradiancia', 'Humidade'])"
   ]
  },
  {
   "cell_type": "code",
   "execution_count": 10,
   "id": "d4b106de-e0e3-485f-b7e3-385b2ceef37d",
   "metadata": {},
   "outputs": [],
   "source": [
    "# Exibindo o gráfico selecionado\n",
    "if option == 'Energia Fotovoltaica':\n",
    "    st.plotly_chart(fig_energia)\n",
    "elif option == 'Temperatura':\n",
    "    st.plotly_chart(fig_temperatura)\n",
    "elif option == 'Chuva':\n",
    "    st.plotly_chart(fig_chuva)\n",
    "elif option == 'Irradiancia':\n",
    "    st.plotly_chart(fig_irradiancia)\n",
    "else:\n",
    "    st.plotly_chart(fig_humidade)"
   ]
  },
  {
   "cell_type": "code",
   "execution_count": null,
   "id": "40a0f82f-0320-4842-acdc-89aa4dfb74de",
   "metadata": {},
   "outputs": [],
   "source": []
  },
  {
   "cell_type": "code",
   "execution_count": null,
   "id": "b3bfec5b-a04e-48f3-afb3-63beddb95aa7",
   "metadata": {},
   "outputs": [],
   "source": []
  },
  {
   "cell_type": "code",
   "execution_count": null,
   "id": "f393cd9a-dc8f-4774-9d31-ac323df962ff",
   "metadata": {},
   "outputs": [],
   "source": []
  },
  {
   "cell_type": "code",
   "execution_count": null,
   "id": "ec51e913-ab4e-4f57-b5bd-38f224aabe5a",
   "metadata": {},
   "outputs": [],
   "source": []
  },
  {
   "cell_type": "code",
   "execution_count": null,
   "id": "dd2aa017-99e7-42ea-a80c-611e8a37a1bb",
   "metadata": {},
   "outputs": [],
   "source": []
  },
  {
   "cell_type": "code",
   "execution_count": null,
   "id": "ad58e915-3003-4338-a8c0-fafd36eff2e7",
   "metadata": {},
   "outputs": [],
   "source": []
  },
  {
   "cell_type": "code",
   "execution_count": null,
   "id": "1509ccda-d10f-4a4c-b989-a4fffff97593",
   "metadata": {},
   "outputs": [],
   "source": []
  },
  {
   "cell_type": "code",
   "execution_count": null,
   "id": "d22999af-3408-4c18-a539-0f23e05676f1",
   "metadata": {},
   "outputs": [],
   "source": []
  },
  {
   "cell_type": "code",
   "execution_count": null,
   "id": "e8d53dfa-0892-4ce4-afc3-3c0bb10a5c39",
   "metadata": {},
   "outputs": [],
   "source": []
  }
 ],
 "metadata": {
  "kernelspec": {
   "display_name": "Python 3 (ipykernel)",
   "language": "python",
   "name": "python3"
  },
  "language_info": {
   "codemirror_mode": {
    "name": "ipython",
    "version": 3
   },
   "file_extension": ".py",
   "mimetype": "text/x-python",
   "name": "python",
   "nbconvert_exporter": "python",
   "pygments_lexer": "ipython3",
   "version": "3.9.13"
  }
 },
 "nbformat": 4,
 "nbformat_minor": 5
}
